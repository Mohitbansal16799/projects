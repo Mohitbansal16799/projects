{
 "cells": [
  {
   "cell_type": "code",
   "execution_count": 1,
   "id": "701a9d20",
   "metadata": {},
   "outputs": [],
   "source": [
    "class fraction:\n",
    "    def __init__(self,n,d):\n",
    "        self.deno = d\n",
    "        self.numa = n\n",
    "    def __str__(self):\n",
    "        return \"{}/{}\".format(self.numa,self.deno)\n",
    "    def __add__(self, other):\n",
    "        temp_num = self.numa * other.deno + self.deno * other.numa\n",
    "        temp_den = self.deno * other.deno\n",
    "        return \"{}/{}\".format(temp_num,temp_den)\n",
    "    def __sub__(self, other):\n",
    "        temp_num = self.numa * other.deno - self.deno * other.numa\n",
    "        temp_den = self.deno * other.deno\n",
    "        return \"{}/{}\".format(temp_num,temp_den)\n",
    "    def __mul__(self, other):\n",
    "        temp_num = self.numa *  other.numa\n",
    "        temp_den = self.deno * other.deno\n",
    "        return \"{}/{}\".format(temp_num,temp_den)\n",
    "    def __truediv__(self, other):\n",
    "        temp_num = self.numa *  other.deno\n",
    "        temp_den = self.deno * other.numa\n",
    "        return \"{}/{}\".format(temp_num,temp_den)"
   ]
  },
  {
   "cell_type": "code",
   "execution_count": 2,
   "id": "1bbe81da",
   "metadata": {},
   "outputs": [],
   "source": [
    "x = fraction(4,5)"
   ]
  },
  {
   "cell_type": "code",
   "execution_count": 3,
   "id": "fb346e66",
   "metadata": {},
   "outputs": [
    {
     "name": "stdout",
     "output_type": "stream",
     "text": [
      "4/5\n"
     ]
    }
   ],
   "source": [
    "print(x)"
   ]
  },
  {
   "cell_type": "code",
   "execution_count": 4,
   "id": "970030b6",
   "metadata": {},
   "outputs": [],
   "source": [
    "y = fraction(1,5)"
   ]
  },
  {
   "cell_type": "code",
   "execution_count": 5,
   "id": "537b50b6",
   "metadata": {},
   "outputs": [
    {
     "name": "stdout",
     "output_type": "stream",
     "text": [
      "1/5\n"
     ]
    }
   ],
   "source": [
    "print(y)"
   ]
  },
  {
   "cell_type": "code",
   "execution_count": 6,
   "id": "d740e128",
   "metadata": {},
   "outputs": [
    {
     "data": {
      "text/plain": [
       "'25/25'"
      ]
     },
     "execution_count": 6,
     "metadata": {},
     "output_type": "execute_result"
    }
   ],
   "source": [
    "x+y"
   ]
  },
  {
   "cell_type": "code",
   "execution_count": 7,
   "id": "9fa9890a",
   "metadata": {},
   "outputs": [
    {
     "data": {
      "text/plain": [
       "'15/25'"
      ]
     },
     "execution_count": 7,
     "metadata": {},
     "output_type": "execute_result"
    }
   ],
   "source": [
    "x-y"
   ]
  },
  {
   "cell_type": "code",
   "execution_count": 8,
   "id": "eb9b2bed",
   "metadata": {},
   "outputs": [
    {
     "data": {
      "text/plain": [
       "'4/25'"
      ]
     },
     "execution_count": 8,
     "metadata": {},
     "output_type": "execute_result"
    }
   ],
   "source": [
    "x*y"
   ]
  },
  {
   "cell_type": "code",
   "execution_count": 9,
   "id": "953ee4fb",
   "metadata": {},
   "outputs": [
    {
     "data": {
      "text/plain": [
       "'20/5'"
      ]
     },
     "execution_count": 9,
     "metadata": {},
     "output_type": "execute_result"
    }
   ],
   "source": [
    "x/y"
   ]
  },
  {
   "cell_type": "code",
   "execution_count": null,
   "id": "ab9fb10f",
   "metadata": {},
   "outputs": [],
   "source": []
  }
 ],
 "metadata": {
  "kernelspec": {
   "display_name": "Python 3 (ipykernel)",
   "language": "python",
   "name": "python3"
  },
  "language_info": {
   "codemirror_mode": {
    "name": "ipython",
    "version": 3
   },
   "file_extension": ".py",
   "mimetype": "text/x-python",
   "name": "python",
   "nbconvert_exporter": "python",
   "pygments_lexer": "ipython3",
   "version": "3.9.7"
  }
 },
 "nbformat": 4,
 "nbformat_minor": 5
}
