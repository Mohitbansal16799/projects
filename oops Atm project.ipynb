{
 "cells": [
  {
   "cell_type": "code",
   "execution_count": 3,
   "id": "1ae040d9",
   "metadata": {},
   "outputs": [
    {
     "name": "stdout",
     "output_type": "stream",
     "text": [
      "hello how would like to proceed?\n",
      "                           1.enter 1 to crete pin\n",
      "                           2.enter 2 to deposite\n",
      "                           3.enter 3 to withdraw\n",
      "                           4.enter 4 to check balance\n",
      "                           5.enter 5 to exit\n",
      "1\n",
      "enter your pin1234\n",
      "pin successfully created\n"
     ]
    }
   ],
   "source": [
    "class Atm:\n",
    "    def __init__(self):\n",
    "        self.__pin = \"\"\n",
    "        self.__balance = 0\n",
    "    def get_pin(self):\n",
    "        return self.__pin\n",
    "    def set_pin(self,new_pin):\n",
    "        if new_pin == int:\n",
    "            self.__pin = new_pin\n",
    "            print(\"pin changed\")\n",
    "        else:\n",
    "            print (\"not allowed\")\n",
    "        self.menu()\n",
    "    def menu(self):\n",
    "        user_input = input(\"\"\"hello how would like to proceed?\n",
    "                           1.enter 1 to crete pin\n",
    "                           2.enter 2 to deposite\n",
    "                           3.enter 3 to withdraw\n",
    "                           4.enter 4 to check balance\n",
    "                           5.enter 5 to exit\n",
    "\"\"\")\n",
    "        if user_input == \"1\":\n",
    "            self.create_pin()\n",
    "        elif user_input == \"2\":\n",
    "            self.deposite()\n",
    "        elif user_input == \"3\":\n",
    "            self.withdraw()\n",
    "        elif user_input == \"4\":\n",
    "            self.balance_check()\n",
    "        else:\n",
    "            print(\"bye\")\n",
    "    def create_pin(self):\n",
    "        self.__pin = input(\"enter your pin\")\n",
    "        print(\"pin successfully created\")\n",
    "    def deposite (self):\n",
    "        temp = input(\"enter your pin\")\n",
    "        if temp == self.__pin:\n",
    "           amount = int(input(\"enter amount\"))\n",
    "           self.__balance = self.__balance + amount\n",
    "           print(\"successfully deposite\")\n",
    "        else:\n",
    "            print(\"incorrect pin\")\n",
    "    def withdraw(self):\n",
    "        temp = input(\"enter your pin\")\n",
    "        if temp == self.__pin:\n",
    "            amount = int(input(\"enter your amount\"))\n",
    "            if amount <= self.__balance:\n",
    "             self.__balance = self.__balance - amount\n",
    "             print(\"operation successfull\")\n",
    "            else:\n",
    "                print(\"low funds\")\n",
    "        else:\n",
    "            print(\"incorrect pin\")\n",
    "    def balance_check(self):\n",
    "        temp = input(\"enter your pin\")\n",
    "        if temp == self.__pin:\n",
    "            print(self.__balance)\n",
    "        else:\n",
    "            print(\"invalid pin\")\n",
    "hdfc = Atm()\n",
    "\n"
   ]
  },
  {
   "cell_type": "code",
   "execution_count": 4,
   "id": "ea0aa5f7",
   "metadata": {},
   "outputs": [
    {
     "name": "stdout",
     "output_type": "stream",
     "text": [
      "enter your pin1234\n",
      "enter amount2000\n",
      "successfully deposite\n"
     ]
    }
   ],
   "source": [
    "hdfc.deposite()"
   ]
  },
  {
   "cell_type": "code",
   "execution_count": 5,
   "id": "dcc6306c",
   "metadata": {},
   "outputs": [
    {
     "name": "stdout",
     "output_type": "stream",
     "text": [
      "enter your pin1234\n",
      "2000\n"
     ]
    }
   ],
   "source": [
    "hdfc.balance_check()"
   ]
  },
  {
   "cell_type": "code",
   "execution_count": 6,
   "id": "09cd858b",
   "metadata": {},
   "outputs": [
    {
     "name": "stdout",
     "output_type": "stream",
     "text": [
      "enter your pin1234\n",
      "enter your amount500\n",
      "operation successfull\n"
     ]
    }
   ],
   "source": [
    "hdfc.withdraw()"
   ]
  },
  {
   "cell_type": "code",
   "execution_count": 7,
   "id": "b06cf959",
   "metadata": {},
   "outputs": [
    {
     "name": "stdout",
     "output_type": "stream",
     "text": [
      "enter your pin1234\n",
      "1500\n"
     ]
    }
   ],
   "source": [
    "hdfc.balance_check()"
   ]
  },
  {
   "cell_type": "code",
   "execution_count": null,
   "id": "181ea719",
   "metadata": {},
   "outputs": [],
   "source": [
    "\n",
    "    "
   ]
  },
  {
   "cell_type": "code",
   "execution_count": null,
   "id": "cad31774",
   "metadata": {},
   "outputs": [],
   "source": []
  }
 ],
 "metadata": {
  "kernelspec": {
   "display_name": "Python 3 (ipykernel)",
   "language": "python",
   "name": "python3"
  },
  "language_info": {
   "codemirror_mode": {
    "name": "ipython",
    "version": 3
   },
   "file_extension": ".py",
   "mimetype": "text/x-python",
   "name": "python",
   "nbconvert_exporter": "python",
   "pygments_lexer": "ipython3",
   "version": "3.9.7"
  }
 },
 "nbformat": 4,
 "nbformat_minor": 5
}
